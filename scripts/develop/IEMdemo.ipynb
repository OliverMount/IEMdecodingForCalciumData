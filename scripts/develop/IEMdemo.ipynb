{
 "cells": [
  {
   "cell_type": "code",
   "execution_count": 4,
   "id": "44f940c6-0adb-49a4-b3c7-1035c70e0aa7",
   "metadata": {},
   "outputs": [],
   "source": [
    "import numpy as np\n",
    "import matplotlib.pyplot as plt\n",
    "import sys\n",
    "\n",
    "sys.path.append('../')  # To get the utils"
   ]
  },
  {
   "cell_type": "markdown",
   "id": "1b161702-93b0-4ce2-bead-89aede556152",
   "metadata": {},
   "source": [
    "### Import the model "
   ]
  },
  {
   "cell_type": "code",
   "execution_count": 5,
   "id": "209e6754-de62-4aad-bd18-6a2739bba447",
   "metadata": {},
   "outputs": [],
   "source": [
    "from utils import InvertedEncoding"
   ]
  },
  {
   "cell_type": "markdown",
   "id": "6d5d85d5-6dab-40a6-92a4-4dd01d05762d",
   "metadata": {},
   "source": [
    "### Specify the number of stimlus and angles"
   ]
  },
  {
   "cell_type": "code",
   "execution_count": 6,
   "id": "f0e2e292-4f91-44ea-bc73-61cb187c4363",
   "metadata": {},
   "outputs": [],
   "source": [
    "nos =8 # number of stimulus\n",
    "direction_angles=np.arange(22.5,360,360/nos)\n"
   ]
  },
  {
   "cell_type": "markdown",
   "id": "4f79c269-5b94-40a1-8787-997ddf1bc89f",
   "metadata": {},
   "source": [
    "### Create and instance of the model"
   ]
  },
  {
   "cell_type": "code",
   "execution_count": 8,
   "id": "ee5bdb0f-1fba-4a0b-8364-cc195de6f785",
   "metadata": {},
   "outputs": [],
   "source": [
    "model= InvertedEncoding(s=direction_angles)"
   ]
  },
  {
   "cell_type": "code",
   "execution_count": 10,
   "id": "e474eaf1-5612-44af-98e4-21060585aa1f",
   "metadata": {},
   "outputs": [
    {
     "ename": "NameError",
     "evalue": "name 'plt' is not defined",
     "output_type": "error",
     "traceback": [
      "\u001b[0;31m---------------------------------------------------------------------------\u001b[0m",
      "\u001b[0;31mNameError\u001b[0m                                 Traceback (most recent call last)",
      "Cell \u001b[0;32mIn[10], line 1\u001b[0m\n\u001b[0;32m----> 1\u001b[0m \u001b[43mmodel\u001b[49m\u001b[38;5;241;43m.\u001b[39;49m\u001b[43mplot_a_tuning_curve\u001b[49m\u001b[43m(\u001b[49m\u001b[43msc\u001b[49m\u001b[38;5;241;43m=\u001b[39;49m\u001b[38;5;241;43m154.7\u001b[39;49m\u001b[43m)\u001b[49m\n",
      "File \u001b[0;32m/media/olive/Research/oliver/IEMdecodingForCalciumData/scripts/develop/../utils.py:163\u001b[0m, in \u001b[0;36mInvertedEncoding.plot_a_tuning_curve\u001b[0;34m(self, sc, tc_type)\u001b[0m\n\u001b[1;32m    160\u001b[0m \u001b[38;5;28;01mif\u001b[39;00m tc_type\u001b[38;5;241m==\u001b[39m\u001b[38;5;124m'\u001b[39m\u001b[38;5;124mcosine\u001b[39m\u001b[38;5;124m'\u001b[39m:\n\u001b[1;32m    161\u001b[0m \tcurve\u001b[38;5;241m=\u001b[39m\u001b[38;5;28mpow\u001b[39m((\u001b[38;5;241m0.5\u001b[39m \u001b[38;5;241m+\u001b[39m (\u001b[38;5;241m0.5\u001b[39m \u001b[38;5;241m*\u001b[39mnp\u001b[38;5;241m.\u001b[39mcos(\u001b[38;5;28mself\u001b[39m\u001b[38;5;241m.\u001b[39mparams[\u001b[38;5;124m'\u001b[39m\u001b[38;5;124msr\u001b[39m\u001b[38;5;124m'\u001b[39m]\u001b[38;5;241m-\u001b[39msc))),\u001b[38;5;28mself\u001b[39m\u001b[38;5;241m.\u001b[39mparams[\u001b[38;5;124m'\u001b[39m\u001b[38;5;124mp\u001b[39m\u001b[38;5;124m'\u001b[39m])\n\u001b[0;32m--> 163\u001b[0m \u001b[43mplt\u001b[49m\u001b[38;5;241m.\u001b[39mplot(\u001b[38;5;28mrange\u001b[39m(\u001b[38;5;28mself\u001b[39m\u001b[38;5;241m.\u001b[39mparams[\u001b[38;5;124m'\u001b[39m\u001b[38;5;124mnos\u001b[39m\u001b[38;5;124m'\u001b[39m]),curve,\u001b[38;5;124m'\u001b[39m\u001b[38;5;124mbo-\u001b[39m\u001b[38;5;124m'\u001b[39m,linewidth\u001b[38;5;241m=\u001b[39m\u001b[38;5;241m2\u001b[39m)\n\u001b[1;32m    164\u001b[0m plt\u001b[38;5;241m.\u001b[39mxticks(\u001b[38;5;28mrange\u001b[39m(\u001b[38;5;28mself\u001b[39m\u001b[38;5;241m.\u001b[39mparams[\u001b[38;5;124m'\u001b[39m\u001b[38;5;124mnos\u001b[39m\u001b[38;5;124m'\u001b[39m]),\u001b[38;5;28mself\u001b[39m\u001b[38;5;241m.\u001b[39mparams[\u001b[38;5;124m'\u001b[39m\u001b[38;5;124mStimulus values\u001b[39m\u001b[38;5;124m'\u001b[39m])\n\u001b[1;32m    165\u001b[0m plt\u001b[38;5;241m.\u001b[39mxlabel(\u001b[38;5;124m\"\u001b[39m\u001b[38;5;124mTarget angle (deg)\u001b[39m\u001b[38;5;124m\"\u001b[39m)\n",
      "\u001b[0;31mNameError\u001b[0m: name 'plt' is not defined"
     ]
    }
   ],
   "source": [
    "model.plot_a_tuning_curve(sc=154.7)"
   ]
  }
 ],
 "metadata": {
  "kernelspec": {
   "display_name": "Python 3 (ipykernel)",
   "language": "python",
   "name": "python3"
  },
  "language_info": {
   "codemirror_mode": {
    "name": "ipython",
    "version": 3
   },
   "file_extension": ".py",
   "mimetype": "text/x-python",
   "name": "python",
   "nbconvert_exporter": "python",
   "pygments_lexer": "ipython3",
   "version": "3.10.13"
  }
 },
 "nbformat": 4,
 "nbformat_minor": 5
}
